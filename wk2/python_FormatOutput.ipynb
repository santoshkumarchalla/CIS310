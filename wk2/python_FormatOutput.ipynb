{
 "cells": [
  {
   "cell_type": "markdown",
   "metadata": {},
   "source": [
    "# Santosh Kumar Challa\n",
    "## Week2: 09/07/2020\n",
    "### Formating Output"
   ]
  },
  {
   "cell_type": "code",
   "execution_count": 1,
   "metadata": {},
   "outputs": [
    {
     "name": "stdout",
     "output_type": "stream",
     "text": [
      "The quick brown cat jumps over the lazy dog\n"
     ]
    }
   ],
   "source": [
    "print(\"The quick brown %s jumps over the lazy dog\" %'cat')"
   ]
  },
  {
   "cell_type": "code",
   "execution_count": 2,
   "metadata": {},
   "outputs": [
    {
     "name": "stdout",
     "output_type": "stream",
     "text": [
      "The quick brown fox jumps over the lazy dog\n"
     ]
    }
   ],
   "source": [
    "print(\"The quick brown %s jumps over the lazy %s\" %('fox','dog'))"
   ]
  },
  {
   "cell_type": "code",
   "execution_count": 3,
   "metadata": {},
   "outputs": [
    {
     "name": "stdout",
     "output_type": "stream",
     "text": [
      "The quick brown fox jumps over the lazy dog\n"
     ]
    }
   ],
   "source": [
    "name1, name2 = 'fox','dog'\n",
    "print(\"The quick brown %s jumps over the lazy %s\" %(name1,name2))"
   ]
  },
  {
   "cell_type": "code",
   "execution_count": 4,
   "metadata": {},
   "outputs": [
    {
     "name": "stdout",
     "output_type": "stream",
     "text": [
      "The quick brown 'cat' jumps over the lazy dog\n"
     ]
    }
   ],
   "source": [
    "print(\"The quick brown %r jumps over the lazy dog\" %'cat')"
   ]
  },
  {
   "cell_type": "code",
   "execution_count": 5,
   "metadata": {},
   "outputs": [
    {
     "name": "stdout",
     "output_type": "stream",
     "text": [
      "The quick brown \tcat jumps over the lazy dog\n"
     ]
    }
   ],
   "source": [
    "print(\"The quick brown %s jumps over the lazy dog\" %'\\tcat')"
   ]
  },
  {
   "cell_type": "code",
   "execution_count": 6,
   "metadata": {},
   "outputs": [
    {
     "name": "stdout",
     "output_type": "stream",
     "text": [
      "My score is 98.832 in CIS310\n",
      "My score is 98 in CIS310\n",
      "My score is 98.832000 in CIS310\n",
      "My score is 98.83 in CIS310\n",
      "My score is 98.83 in CIS310\n",
      "My score is      98.83 in CIS310\n"
     ]
    }
   ],
   "source": [
    "# Formating Numabers\n",
    "#String\n",
    "print('My score is %s in CIS310' %98.832)\n",
    "#Decimal\n",
    "print('My score is %d in CIS310' %98.832)\n",
    "#Float\n",
    "print('My score is %f in CIS310' %98.832)\n",
    "print('My score is %5.2f in CIS310' %98.832)\n",
    "print('My score is %2.2f in CIS310' %(98.832))\n",
    "print('My score is %10.2f in CIS310' %(98.832))"
   ]
  },
  {
   "cell_type": "code",
   "execution_count": 7,
   "metadata": {},
   "outputs": [],
   "source": [
    "import webbrowser"
   ]
  },
  {
   "cell_type": "code",
   "execution_count": 8,
   "metadata": {},
   "outputs": [
    {
     "data": {
      "text/plain": [
       "True"
      ]
     },
     "execution_count": 8,
     "metadata": {},
     "output_type": "execute_result"
    }
   ],
   "source": [
    "webbrowser.open('https://docs.python.org/3/library/stdtypes.html#old-string-formatting', new = 4)"
   ]
  },
  {
   "cell_type": "code",
   "execution_count": 9,
   "metadata": {},
   "outputs": [
    {
     "name": "stdout",
     "output_type": "stream",
     "text": [
      "I'm using the general purpose language Python to do data analysis!\n",
      "I'm using the general purpose language Python to do data analysis!\n"
     ]
    }
   ],
   "source": [
    "# Format with .format() method\n",
    "print(\"I'm using the general purpose language {} to do data analysis!\" .format('Python') )\n",
    "var1 = \"Python\"\n",
    "print(\"I'm using the general purpose language {} to do data analysis!\" .format(var1) )"
   ]
  },
  {
   "cell_type": "code",
   "execution_count": 10,
   "metadata": {},
   "outputs": [
    {
     "name": "stdout",
     "output_type": "stream",
     "text": [
      "The quick brown fox jumps over the lazy dog\n"
     ]
    }
   ],
   "source": [
    "print('The quick {0} {1} jumps over the lazy {2}' .format('brown','fox','dog' ))"
   ]
  },
  {
   "cell_type": "code",
   "execution_count": 11,
   "metadata": {},
   "outputs": [
    {
     "name": "stdout",
     "output_type": "stream",
     "text": [
      "Food     | Calories \n",
      "Apples   | 3.5      \n",
      "Almonds  | 2        \n",
      "Orange   | 1000000000000\n"
     ]
    }
   ],
   "source": [
    "print('{0:8} | {1:9}'.format('Food', 'Calories'))\n",
    "print('{0:8} | {1:9}'.format('Apples', '3.5'))\n",
    "print('{0:8} | {1:9}'.format('Almonds', '2'))\n",
    "print('{0:8} | {1:9}'.format('Orange', '1000000000000'))"
   ]
  },
  {
   "cell_type": "code",
   "execution_count": 12,
   "metadata": {},
   "outputs": [
    {
     "name": "stdout",
     "output_type": "stream",
     "text": [
      "Food     | Calories \n",
      "Apples   | 3.5      \n",
      "Almonds  | 2        \n",
      "Orange   | 1000000000000\n"
     ]
    }
   ],
   "source": [
    "print('{f:8} | {c:9}'.format(f ='Food', c ='Calories'))\n",
    "print('{0:8} | {1:9}'.format('Apples', '3.5'))\n",
    "print('{0:8} | {1:9}'.format('Almonds', '2'))\n",
    "print('{0:8} | {1:9}'.format('Orange', '1000000000000'))"
   ]
  },
  {
   "cell_type": "code",
   "execution_count": 13,
   "metadata": {},
   "outputs": [
    {
     "name": "stdout",
     "output_type": "stream",
     "text": [
      "My gpa is 3.960000000\n",
      "My gpa is   4.0\n"
     ]
    }
   ],
   "source": [
    "#numbers\n",
    "gpa = 3.96\n",
    "print ('My gpa is {0:5.9f}' .format(gpa))\n",
    "print ('My gpa is {0:5.1f}' .format(gpa))"
   ]
  },
  {
   "cell_type": "code",
   "execution_count": 14,
   "metadata": {},
   "outputs": [
    {
     "name": "stdout",
     "output_type": "stream",
     "text": [
      "Santosh is in 'Fall 2020'\n"
     ]
    }
   ],
   "source": [
    "#f-strings\n",
    "n = 'Santosh'\n",
    "t = 'Fall 2020'\n",
    "print(f\"{n} is in {t!r}\")"
   ]
  },
  {
   "cell_type": "code",
   "execution_count": 15,
   "metadata": {},
   "outputs": [],
   "source": [
    "# numbers\n",
    "radius = 3.1\n",
    "area = (radius**2) * 2.14"
   ]
  },
  {
   "cell_type": "code",
   "execution_count": 16,
   "metadata": {},
   "outputs": [
    {
     "name": "stdout",
     "output_type": "stream",
     "text": [
      "Area is 20.565400000000004\n",
      "Area is 20.57\n",
      "For the radius       3.10 Area is       20.57\n",
      "For the radius 3.10 Area is 20.57\n"
     ]
    }
   ],
   "source": [
    "print(\"Area is {}\" .format(area) )\n",
    "print(\"Area is {0:5.2f}\" .format(area) )\n",
    "print(f\"For the radius {radius:10.2f} Area is {area:11.2f}\" )\n",
    "print(f\"For the radius {radius:2.2f} Area is {area:4.2f}\" )"
   ]
  },
  {
   "cell_type": "code",
   "execution_count": 17,
   "metadata": {},
   "outputs": [
    {
     "data": {
      "text/plain": [
       "True"
      ]
     },
     "execution_count": 17,
     "metadata": {},
     "output_type": "execute_result"
    }
   ],
   "source": [
    "import webbrowser\n",
    "webbrowser.open(\"https://docs.python.org/3/reference/lexical_analysis.html#f-strings\")"
   ]
  },
  {
   "cell_type": "code",
   "execution_count": 18,
   "metadata": {},
   "outputs": [
    {
     "name": "stdout",
     "output_type": "stream",
     "text": [
      "55\n",
      "a = 55\n"
     ]
    },
    {
     "data": {
      "text/plain": [
       "int"
      ]
     },
     "execution_count": 18,
     "metadata": {},
     "output_type": "execute_result"
    }
   ],
   "source": [
    "a = input()\n",
    "print (f\"a = {a}\")\n",
    "type(int(a))\n",
    "#print(a)"
   ]
  },
  {
   "cell_type": "code",
   "execution_count": 19,
   "metadata": {},
   "outputs": [
    {
     "name": "stdout",
     "output_type": "stream",
     "text": [
      "1\n",
      "number  = 1\n"
     ]
    }
   ],
   "source": [
    "num = input()\n",
    "print(\"number  = {}\".format(num))"
   ]
  },
  {
   "cell_type": "code",
   "execution_count": 20,
   "metadata": {},
   "outputs": [
    {
     "name": "stdout",
     "output_type": "stream",
     "text": [
      "1 2 3\n"
     ]
    }
   ],
   "source": [
    "# casting\n",
    "x = int(1)\n",
    "y = int(2.44)\n",
    "z = int(\"3\")\n",
    "print(x,y,z)"
   ]
  },
  {
   "cell_type": "code",
   "execution_count": 21,
   "metadata": {},
   "outputs": [
    {
     "name": "stdout",
     "output_type": "stream",
     "text": [
      "1.0 6.444 3.1\n"
     ]
    }
   ],
   "source": [
    "#float\n",
    "x = float(1)\n",
    "y=float(\"6.444\")\n",
    "z = float(3.1)\n",
    "print(x,y,z)"
   ]
  },
  {
   "cell_type": "code",
   "execution_count": 22,
   "metadata": {},
   "outputs": [
    {
     "name": "stdout",
     "output_type": "stream",
     "text": [
      "abc 5\n"
     ]
    }
   ],
   "source": [
    "#str\n",
    "x=str('abc')\n",
    "y=str(5)\n",
    "print(x,y)\n"
   ]
  },
  {
   "cell_type": "code",
   "execution_count": null,
   "metadata": {},
   "outputs": [],
   "source": []
  }
 ],
 "metadata": {
  "kernelspec": {
   "display_name": "Python 3.7 - default",
   "language": "python",
   "name": "py37_default"
  },
  "language_info": {
   "codemirror_mode": {
    "name": "ipython",
    "version": 3
   },
   "file_extension": ".py",
   "mimetype": "text/x-python",
   "name": "python",
   "nbconvert_exporter": "python",
   "pygments_lexer": "ipython3",
   "version": "3.7.7"
  }
 },
 "nbformat": 4,
 "nbformat_minor": 4
}
